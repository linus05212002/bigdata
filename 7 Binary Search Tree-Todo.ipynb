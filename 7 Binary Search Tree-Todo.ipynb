{
 "cells": [
  {
   "cell_type": "markdown",
   "metadata": {},
   "source": [
    "Animation: https://www.cs.usfca.edu/~galles/visualization/BST.html"
   ]
  },
  {
   "cell_type": "code",
   "execution_count": 14,
   "metadata": {},
   "outputs": [],
   "source": [
    "class Node:\n",
    "    \"\"\"\n",
    "    Tree node with left and right child and data\n",
    "    \"\"\"\n",
    "    def __init__(self, data):\n",
    "    \n",
    "        self.left = None\n",
    "        self.right = None\n",
    "        self.data = data"
   ]
  },
  {
   "cell_type": "code",
   "execution_count": 15,
   "metadata": {},
   "outputs": [],
   "source": [
    "class Tree:\n",
    "    def __init__(self):\n",
    "        \"\"\"Create an empty binary search tree\"\"\"\n",
    "        self.root = None\n",
    "        \n",
    "    def insert(self, item):  \n",
    "        if self.root is None:\n",
    "            self.root = Node(item)\n",
    "        else:\n",
    "            self._insert(self.root, item) \n",
    "\n",
    "    def _insert(self, node, item):\n",
    "        if item < node.data:  \n",
    "            if node.left:\n",
    "                self._insert(node.left, item) \n",
    "            else:\n",
    "                node.left = Node(item)  \n",
    "        else:\n",
    "            if node.right:\n",
    "                self._insert(node.right, item)\n",
    "            else:\n",
    "                node.right = Node(item)  \n",
    "                \n",
    "    \n",
    "    def find(self, items):\n",
    "        \"\"\"Returns true if item is in the tree or false otherwise\"\"\"\n",
    "\n",
    "        if not self.root:\n",
    "            raise Exception('Hello nothing inside here ><')\n",
    "        else:\n",
    "            self._find(self.root,items)\n",
    "        \n",
    "    def _find(self, node, items):\n",
    "        \n",
    "        if  items < node.data :\n",
    "            if node.left:\n",
    "                self._find(node.left, items)\n",
    "            else:\n",
    "                print('Not in the list')\n",
    "                return\n",
    "        elif items > node.data :\n",
    "\n",
    "            if node.right:\n",
    "                self._find(node.right, items)\n",
    "            else:\n",
    "                print('{} is not in the list'.format(items))\n",
    "                return\n",
    "        else:\n",
    "            print('{} is in the list'.format(items))\n",
    "            return \n",
    "            "
   ]
  },
  {
   "cell_type": "code",
   "execution_count": 16,
   "metadata": {},
   "outputs": [],
   "source": [
    "tree = Tree()"
   ]
  },
  {
   "cell_type": "code",
   "execution_count": 17,
   "metadata": {},
   "outputs": [
    {
     "data": {
      "text/plain": [
       "<__main__.Tree at 0x10bc79750>"
      ]
     },
     "execution_count": 17,
     "metadata": {},
     "output_type": "execute_result"
    }
   ],
   "source": [
    "tree"
   ]
  },
  {
   "cell_type": "code",
   "execution_count": 18,
   "metadata": {},
   "outputs": [],
   "source": [
    "tree.insert(30)\n",
    "tree.insert(5)\n",
    "tree.insert(50)\n",
    "tree.insert(8)\n",
    "tree.insert(3)\n",
    "tree.insert(100)\n",
    "tree.insert(40)\n"
   ]
  },
  {
   "cell_type": "code",
   "execution_count": 24,
   "metadata": {},
   "outputs": [
    {
     "name": "stdout",
     "output_type": "stream",
     "text": [
      "8 is in the list\n",
      "9 is not in the list\n"
     ]
    }
   ],
   "source": [
    "tree.find(8)\n",
    "tree.find(9)"
   ]
  },
  {
   "cell_type": "code",
   "execution_count": 25,
   "metadata": {},
   "outputs": [
    {
     "ename": "Exception",
     "evalue": "Hello nothing inside here ><",
     "output_type": "error",
     "traceback": [
      "\u001b[0;31m---------------------------------------------------------------------------\u001b[0m",
      "\u001b[0;31mException\u001b[0m                                 Traceback (most recent call last)",
      "\u001b[0;32m<ipython-input-25-15f9408fc227>\u001b[0m in \u001b[0;36m<module>\u001b[0;34m\u001b[0m\n\u001b[1;32m      1\u001b[0m \u001b[0mtree1\u001b[0m \u001b[0;34m=\u001b[0m \u001b[0mTree\u001b[0m\u001b[0;34m(\u001b[0m\u001b[0;34m)\u001b[0m\u001b[0;34m\u001b[0m\u001b[0;34m\u001b[0m\u001b[0m\n\u001b[0;32m----> 2\u001b[0;31m \u001b[0mtree1\u001b[0m\u001b[0;34m.\u001b[0m\u001b[0mfind\u001b[0m\u001b[0;34m(\u001b[0m\u001b[0;36m2\u001b[0m\u001b[0;34m)\u001b[0m\u001b[0;34m\u001b[0m\u001b[0;34m\u001b[0m\u001b[0m\n\u001b[0m",
      "\u001b[0;32m<ipython-input-15-f21d1b92bcde>\u001b[0m in \u001b[0;36mfind\u001b[0;34m(self, items)\u001b[0m\n\u001b[1;32m     27\u001b[0m \u001b[0;34m\u001b[0m\u001b[0m\n\u001b[1;32m     28\u001b[0m         \u001b[0;32mif\u001b[0m \u001b[0;32mnot\u001b[0m \u001b[0mself\u001b[0m\u001b[0;34m.\u001b[0m\u001b[0mroot\u001b[0m\u001b[0;34m:\u001b[0m\u001b[0;34m\u001b[0m\u001b[0;34m\u001b[0m\u001b[0m\n\u001b[0;32m---> 29\u001b[0;31m             \u001b[0;32mraise\u001b[0m \u001b[0mException\u001b[0m\u001b[0;34m(\u001b[0m\u001b[0;34m'Hello nothing inside here ><'\u001b[0m\u001b[0;34m)\u001b[0m\u001b[0;34m\u001b[0m\u001b[0;34m\u001b[0m\u001b[0m\n\u001b[0m\u001b[1;32m     30\u001b[0m         \u001b[0;32melse\u001b[0m\u001b[0;34m:\u001b[0m\u001b[0;34m\u001b[0m\u001b[0;34m\u001b[0m\u001b[0m\n\u001b[1;32m     31\u001b[0m             \u001b[0mself\u001b[0m\u001b[0;34m.\u001b[0m\u001b[0m_find\u001b[0m\u001b[0;34m(\u001b[0m\u001b[0mself\u001b[0m\u001b[0;34m.\u001b[0m\u001b[0mroot\u001b[0m\u001b[0;34m,\u001b[0m\u001b[0mitems\u001b[0m\u001b[0;34m)\u001b[0m\u001b[0;34m\u001b[0m\u001b[0;34m\u001b[0m\u001b[0m\n",
      "\u001b[0;31mException\u001b[0m: Hello nothing inside here ><"
     ]
    }
   ],
   "source": [
    "tree1 = Tree()\n",
    "tree1.find(2)"
   ]
  },
  {
   "cell_type": "code",
   "execution_count": 26,
   "metadata": {},
   "outputs": [
    {
     "name": "stdout",
     "output_type": "stream",
     "text": [
      "2 is in the list\n",
      "24 is not in the list\n"
     ]
    }
   ],
   "source": [
    "tree1.insert(2)\n",
    "tree1.find(2)\n",
    "tree1.find(24)"
   ]
  },
  {
   "cell_type": "markdown",
   "metadata": {},
   "source": [
    "## Why is the worst case time complexity of the find method only $O(n)$ and not $O(log n)$?"
   ]
  },
  {
   "cell_type": "markdown",
   "metadata": {},
   "source": [
    "Time Complexity: The worst case time complexity of search and insert operations is O(h) where h is height of Binary Search Tree. In worst case, we may have to travel from root to the deepest leaf node. The height of a skewed tree may become n and the time complexity of search and insert operation may become O(n)."
   ]
  },
  {
   "cell_type": "markdown",
   "metadata": {},
   "source": [
    "==================================================================================================="
   ]
  },
  {
   "cell_type": "markdown",
   "metadata": {},
   "source": [
    "\n",
    "\n",
    "\n",
    "\n",
    "\n",
    "\n",
    "\n",
    "\n",
    "\n",
    "NOTE\n",
    "\n",
    "\n",
    "錯在哪裡@@\n",
    "\n",
    "\n",
    "class Tree:\n",
    "    def __init__(self):\n",
    "        \"\"\"Create an empty binary search tree\"\"\"\n",
    "        self.root = None\n",
    "        \n",
    "    \n",
    "   # def __iter__(self):\n",
    "    #    return self.root.__iter__()\n",
    "    \n",
    "    def insert(self, items):\n",
    "        \"\"\"Add an item in the binary search tree\"\"\"\n",
    "        \n",
    "        node = self.root\n",
    "        \n",
    "        if node is None:\n",
    "            self.root = Node(items)\n",
    "            print(node.data)\n",
    "            \n",
    "        else:\n",
    " \n",
    "            if node.data < items:\n",
    "                if node.right is None:\n",
    "                    node.right = Node(items)\n",
    "                    print('right after {}'.format(node.data) )\n",
    "                    return\n",
    "                else:\n",
    "                    node = node.right\n",
    "                    break\n",
    "            else:\n",
    "                if node.left is None:\n",
    "                    node.left = Node(items)\n",
    "                    print('left after {}'.format(node.data) )\n",
    "                    return\n",
    "                else:\n",
    "                    node = node.left\n",
    "                    break\n",
    "                \n",
    "                \n",
    "       {{{      or}}}\n",
    "             \n",
    "             \n",
    "                if self.root is None:\n",
    "            self.root = Node(item)\n",
    "            #BST.append(item)\n",
    "        else:\n",
    "            if self.root < item: #如何在之間切換\n",
    "                if self.root.right is None: \n",
    "                    self.root.right = Node(item) \n",
    "                else: \n",
    "                    insert(self.root.right, item) \n",
    "            else: \n",
    "                if self.root.left is None: \n",
    "                    self.root.left = Node(item) \n",
    "                else: \n",
    "    \n",
    "    \n",
    "    \n",
    "    \n",
    " For flat arrays, searching for, inserting, and deleting data will loop through every single element, yielding an average efficiency of O(n). With a Binary Search Tree, each step down the tree cuts the remaining nodes to search by up to half. For this reason, search on a BST is performed in O(log(n)) time on average. This is a significant improvement, especially for large data sets."
   ]
  },
  {
   "cell_type": "code",
   "execution_count": null,
   "metadata": {},
   "outputs": [],
   "source": []
  }
 ],
 "metadata": {
  "kernelspec": {
   "display_name": "Python 3",
   "language": "python",
   "name": "python3"
  },
  "language_info": {
   "codemirror_mode": {
    "name": "ipython",
    "version": 3
   },
   "file_extension": ".py",
   "mimetype": "text/x-python",
   "name": "python",
   "nbconvert_exporter": "python",
   "pygments_lexer": "ipython3",
   "version": "3.7.4"
  },
  "varInspector": {
   "cols": {
    "lenName": 16,
    "lenType": 16,
    "lenVar": 40
   },
   "kernels_config": {
    "python": {
     "delete_cmd_postfix": "",
     "delete_cmd_prefix": "del ",
     "library": "var_list.py",
     "varRefreshCmd": "print(var_dic_list())"
    },
    "r": {
     "delete_cmd_postfix": ") ",
     "delete_cmd_prefix": "rm(",
     "library": "var_list.r",
     "varRefreshCmd": "cat(var_dic_list()) "
    }
   },
   "types_to_exclude": [
    "module",
    "function",
    "builtin_function_or_method",
    "instance",
    "_Feature"
   ],
   "window_display": false
  }
 },
 "nbformat": 4,
 "nbformat_minor": 2
}
